{
 "cells": [
  {
   "cell_type": "code",
   "execution_count": 1,
   "id": "9182665b",
   "metadata": {},
   "outputs": [],
   "source": [
    "def func(n):\n",
    "    return n**2"
   ]
  },
  {
   "cell_type": "code",
   "execution_count": 2,
   "id": "7eb0e622",
   "metadata": {},
   "outputs": [
    {
     "name": "stdout",
     "output_type": "stream",
     "text": [
      "Sample List:  [4, 5, 2, 9]\n",
      "\n",
      "Square the elements in list: \n",
      "[16, 25, 4, 81]\n"
     ]
    }
   ],
   "source": [
    "n = [4,5,2,9]\n",
    "print('Sample List: ',n)\n",
    "result = map(func,n)\n",
    "print('\\nSquare the elements in list: ')\n",
    "print(list(result))"
   ]
  },
  {
   "cell_type": "code",
   "execution_count": null,
   "id": "d93d99c4",
   "metadata": {},
   "outputs": [],
   "source": []
  }
 ],
 "metadata": {
  "kernelspec": {
   "display_name": "Python 3",
   "language": "python",
   "name": "python3"
  },
  "language_info": {
   "codemirror_mode": {
    "name": "ipython",
    "version": 3
   },
   "file_extension": ".py",
   "mimetype": "text/x-python",
   "name": "python",
   "nbconvert_exporter": "python",
   "pygments_lexer": "ipython3",
   "version": "3.6.9"
  }
 },
 "nbformat": 4,
 "nbformat_minor": 5
}
